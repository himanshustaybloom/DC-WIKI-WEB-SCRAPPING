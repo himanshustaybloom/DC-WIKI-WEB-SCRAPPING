{
 "cells": [
  {
   "cell_type": "markdown",
   "metadata": {
    "id": "hTAwWJ5Qlmwk"
   },
   "source": [
    "<img src=\"https://drive.google.com/uc?export=view&id=1Krpv420Trw6HQbArLSzrbYcpBz-9wgxw\" width=300/>\n",
    "\n",
    "# Data Engineering\n",
    "## Assignment 1: Webscraping wikipedia's Billboard pages\n",
    "\n",
    "**Alok K Pandey**<br>"
   ]
  },
  {
   "cell_type": "markdown",
   "metadata": {},
   "source": [
    "## Background"
   ]
  },
  {
   "cell_type": "markdown",
   "metadata": {},
   "source": [
    "    The Billboard Hot 100 is a chart that ranks the best-performing singles of the United States. Its data, published by Billboard magazine and compiled by Nielsen SoundScan, is based collectively on each single's weekly physical and digital sales, as well as airplay and streaming. At the end of a year, Billboard will publish an annual list of the 100 most successful songs throughout that year on the Hot 100 chart based on the information.\n",
    "    \n",
    ">> Check out Hot 100 single of 2022: https://en.wikipedia.org/wiki/Billboard_Year-End_Hot_100_singles_of_2022"
   ]
  },
  {
   "cell_type": "markdown",
   "metadata": {
    "id": "GYXK8VrcW9Mg"
   },
   "source": [
    "## Instructions <a class=\"anchor\" id=\"instructions\"></a>"
   ]
  },
  {
   "cell_type": "markdown",
   "metadata": {
    "id": "lbPCzlmxXh2w"
   },
   "source": [
    "<hr style=\"height:2pt\">\n",
    "\n",
    "\n",
    "# Task 1: Constructing a year-song dataframe\n",
    "\n",
    "**Question 1:** Scrape and Parse Wikipedia for Billboard's Top 100 songs starting from 1992 to 2022.\n",
    "\n",
    "**1.1** Scrape Wikipedia's Billboard pages from 1992 to 2022.\n",
    "\n",
    "<details>\n",
    "\n",
    "- Use python's `requests` module to obtain (GET) the web pages at http://en.wikipedia.org/wiki/Billboard_Year-End_Hot_100_singles_of_1992, http://en.wikipedia.org/wiki/Billboard_Year-End_Hot_100_singles_of_1993 till http://en.wikipedia.org/wiki/Billboard_Year-End_Hot_100_singles_of_2022.\n",
    "\n",
    "- Store the text from your `requests` in a dictionary called `yearstext`. \n",
    "This dictionary should have as its keys the years (as integers from 1992 to 2022), and as values corresponding to these keys the text of the page being fetched.\n",
    "\n",
    "*Hint:* Put your requests.get() in a `for` loop and use the `time.sleep` function to wait one second between requests, you do not want Wikipedia to think you are a marauding bot attempting to mount a denial-of-service attack.\n",
    "\n",
    "</details>\n",
    "\n",
    "\n",
    "**1.2** Parse the HTML retrieved to extract ranking, song and artist information. \n",
    "\n",
    "  **Note:** Here are some other issues that you will need to take care of while parsing:\n",
    "\n",
    "<details>\n",
    "    \n",
    "    i. The example shown above has several artists for a single song. In this case, the `band_singer` and `url` would be a list of items.\n",
    "\n",
    "    ii. Some singles might even have multiple songs because of the way the industry works:\n",
    "    ```\n",
    "    {'ranking': 98,\n",
    "    'song': [\"You're Makin' Me High\", 'Let It Flow (song)'],\n",
    "    'songurl': ['/wiki/You%27re_Makin%27_Me_High', '/wiki/Let_It_Flow_(song)'],\n",
    "    'titletext': '\"You\\'re Makin\\' Me High\" / \"Let It Flow\"',\n",
    "    'band_singer': ['Toni Braxton'],\n",
    "    'url': ['/wiki/Toni_Braxton']}\n",
    "    ```\n",
    "    (See 1997 for an example)\n",
    "\n",
    "    iii. Some songs don't have a URL. In this case, assume there is one song in the single, set `songurl` to [`None`] and the song name to the contents of the table cell with the quotes stripped:\n",
    "    ```\n",
    "    {'ranking': 45,\n",
    "      'song': ['Say It'],\n",
    "      'songurl': [None],\n",
    "      'titletext': '\"Say It\"',\n",
    "      'band_singer': ['Voices of Theory'],\n",
    "      'url': ['/wiki/Voices_of_Theory']}\n",
    "    ```\n",
    "    (See 1998 for an example)\n",
    "\n",
    "</details>\n",
    "<br>\n",
    "<hr style=\"height:2pt\">"
   ]
  },
  {
   "cell_type": "code",
   "execution_count": 1,
   "metadata": {
    "executionInfo": {
     "elapsed": 358,
     "status": "ok",
     "timestamp": 1653658404318,
     "user": {
      "displayName": "Arya Mohan",
      "userId": "15606194433450766788"
     },
     "user_tz": -330
    },
    "id": "deZ11vb4lm3e",
    "jupyter": {
     "outputs_hidden": false
    }
   },
   "outputs": [],
   "source": [
    "# libraries to get you started\n",
    "import numpy as np\n",
    "import pandas as pd\n",
    "import json\n",
    "import re\n",
    "import requests\n",
    "import time\n",
    "from bs4 import BeautifulSoup"
   ]
  },
  {
   "cell_type": "markdown",
   "metadata": {
    "id": "044UilQrsU_x"
   },
   "source": [
    "* Hint: Save the obtained dictionary as a json file so you do not need to run it over and over again."
   ]
  },
  {
   "cell_type": "code",
   "execution_count": 2,
   "metadata": {},
   "outputs": [
    {
     "name": "stdout",
     "output_type": "stream",
     "text": [
      "Data saved as 'year_song_data.json'.\n"
     ]
    }
   ],
   "source": [
    "# Start your code here\n",
    "\n",
    "# Dictionary to store the text of each year's Wikipedia page\n",
    "yearstext = {}\n",
    "\n",
    "# Scrape Wikipedia pages from 1992 to 2022\n",
    "for year in range(1992, 2023):\n",
    "    url = f\"http://en.wikipedia.org/wiki/Billboard_Year-End_Hot_100_singles_of_{year}\"\n",
    "    response = requests.get(url)\n",
    "    yearstext[year] = response.text\n",
    "    time.sleep(1)  # Wait for 1 second between requests\n",
    "\n",
    "# Parse the HTML and extract ranking, song, and artist information\n",
    "year_song_data = []\n",
    "for year, text in yearstext.items():\n",
    "    soup = BeautifulSoup(text, 'html.parser')\n",
    "    table = soup.find('table', class_='wikitable')\n",
    "    rows = table.find_all('tr')[1:]  # Skip the header row\n",
    "    for row in rows:\n",
    "        try:\n",
    "            columns = row.find_all('td')\n",
    "            ranking = int(columns[0].text.strip())\n",
    "            title_text = columns[1].text.strip()\n",
    "            song_url_elements = columns[1].find_all('a')\n",
    "            if len(song_url_elements) > 0:\n",
    "                song_urls = [a['href'] for a in song_url_elements]\n",
    "                songs = [a.text for a in song_url_elements]\n",
    "            else:\n",
    "                song_urls = [None]\n",
    "                songs = [title_text.strip('\"')]\n",
    "            artist_url_elements = columns[2].find_all('a')\n",
    "            if len(artist_url_elements) > 0:\n",
    "                artist_urls = [a['href'] for a in artist_url_elements]\n",
    "                artists = [a.text for a in artist_url_elements]\n",
    "            else:\n",
    "                artist_urls = [None]\n",
    "                artists = [columns[2].text.strip()]\n",
    "            year_song_data.append({\n",
    "                'year': year,  # Include the year as a key value\n",
    "                'ranking': ranking,\n",
    "                'song': songs,\n",
    "                'songurl': song_urls,\n",
    "                'titletext': title_text,\n",
    "                'band_singer': artists,\n",
    "                'url': artist_urls\n",
    "            })\n",
    "        except IndexError:\n",
    "            continue\n",
    "\n",
    "# Save the data as a JSON file\n",
    "with open('year_song_data.json', 'w') as file:\n",
    "    json.dump(year_song_data, file)\n",
    "\n",
    "print(\"Data saved as 'year_song_data.json'.\")\n"
   ]
  },
  {
   "cell_type": "markdown",
   "metadata": {
    "id": "Kd_0dzuslm7B"
   },
   "source": [
    "<hr style=\"height:2pt\">\n",
    "\n",
    "**Question 2:** Construct a DataFrame from parsed data\n",
    "\n",
    "**2.1** Construct a dataframe from the dictionary `yearinfo`.\n",
    "\n",
    "<details>\n",
    "    \n",
    "- Construct a dataframe from the dictionary created in the previous section `yearinfo`. Name this dataframe `billboardtop`.<br><br>\n",
    "  Keep in mind, in the data structure we have so far, a given key can have a list of values with multiple entries. Also, our data is grouped by year. So we need a way to flatten this data into a format that will create a useful DataFrame. \n",
    "  Your final dataframe `billboardtop` should look something like this:\n",
    "\n",
    "  <img src=\"https://drive.google.com/uc?export=view&id=1adDiuSmHXR7B7YO2ZNT_OJ9QejUyuJAC\" width=1500/>\n",
    "\n",
    "- Ensure that all lists in your dictionary are in different rows. <br>\n",
    "  For example, a single containing two artists should be two different rows:\n",
    "  <img src=\"https://drive.google.com/uc?export=view&id=1hxGXmP20vJ5i1N7WDg_pZBYly7gX2Gz0\" width=1500/>\n",
    "\n",
    "  A single containing two titles (1997, Rank 98) should be two different rows:\n",
    "  <img src=\"https://drive.google.com/uc?export=view&id=1nRrDQOixcH4HfahfA9YF7R7brm_OyD7d\" width=1500/>\n",
    "\n",
    "</details>\n",
    "\n",
    "**2.2** Check your dataframes data types and convert them to the correct data types if needed.\n",
    "\n",
    "- Check dataframe data types using ```dtypes```.\n",
    "- Convert them to the correct data types if needed using the ```astype()``` function.\n",
    "\n",
    "**2.3** Store this dataframe in ADLS so that you can use it for tasks ahead."
   ]
  },
  {
   "cell_type": "markdown",
   "metadata": {},
   "source": [
    "* Hint: Use pickle to save you data, it retains your given datatypes and few other metadata"
   ]
  },
  {
   "cell_type": "code",
   "execution_count": 30,
   "metadata": {},
   "outputs": [
    {
     "name": "stdout",
     "output_type": "stream",
     "text": [
      "Data saved as 'billboardtop.pickle'.\n"
     ]
    },
    {
     "data": {
      "text/html": [
       "<div>\n",
       "<style scoped>\n",
       "    .dataframe tbody tr th:only-of-type {\n",
       "        vertical-align: middle;\n",
       "    }\n",
       "\n",
       "    .dataframe tbody tr th {\n",
       "        vertical-align: top;\n",
       "    }\n",
       "\n",
       "    .dataframe thead th {\n",
       "        text-align: right;\n",
       "    }\n",
       "</style>\n",
       "<table border=\"1\" class=\"dataframe\">\n",
       "  <thead>\n",
       "    <tr style=\"text-align: right;\">\n",
       "      <th></th>\n",
       "      <th>year</th>\n",
       "      <th>ranking</th>\n",
       "      <th>song</th>\n",
       "      <th>songurl</th>\n",
       "      <th>titletext</th>\n",
       "      <th>band_singer</th>\n",
       "      <th>url</th>\n",
       "    </tr>\n",
       "  </thead>\n",
       "  <tbody>\n",
       "    <tr>\n",
       "      <th>0</th>\n",
       "      <td>1992</td>\n",
       "      <td>1</td>\n",
       "      <td>End of the Road</td>\n",
       "      <td>/wiki/End_of_the_Road_(Boyz_II_Men_song)</td>\n",
       "      <td>\"End of the Road\"</td>\n",
       "      <td>Boyz II Men</td>\n",
       "      <td>/wiki/Boyz_II_Men</td>\n",
       "    </tr>\n",
       "    <tr>\n",
       "      <th>1</th>\n",
       "      <td>1992</td>\n",
       "      <td>2</td>\n",
       "      <td>Baby Got Back</td>\n",
       "      <td>/wiki/Baby_Got_Back</td>\n",
       "      <td>\"Baby Got Back\"</td>\n",
       "      <td>Sir Mix-a-Lot</td>\n",
       "      <td>/wiki/Sir_Mix-a-Lot</td>\n",
       "    </tr>\n",
       "    <tr>\n",
       "      <th>2</th>\n",
       "      <td>1992</td>\n",
       "      <td>3</td>\n",
       "      <td>Jump</td>\n",
       "      <td>/wiki/Jump_(Kris_Kross_song)</td>\n",
       "      <td>\"Jump\"</td>\n",
       "      <td>Kris Kross</td>\n",
       "      <td>/wiki/Kris_Kross</td>\n",
       "    </tr>\n",
       "    <tr>\n",
       "      <th>3</th>\n",
       "      <td>1992</td>\n",
       "      <td>4</td>\n",
       "      <td>Save the Best for Last</td>\n",
       "      <td>/wiki/Save_the_Best_for_Last</td>\n",
       "      <td>\"Save the Best for Last\"</td>\n",
       "      <td>Vanessa Williams</td>\n",
       "      <td>/wiki/Vanessa_L._Williams</td>\n",
       "    </tr>\n",
       "    <tr>\n",
       "      <th>4</th>\n",
       "      <td>1992</td>\n",
       "      <td>5</td>\n",
       "      <td>Baby-Baby-Baby</td>\n",
       "      <td>/wiki/Baby-Baby-Baby</td>\n",
       "      <td>\"Baby-Baby-Baby\"</td>\n",
       "      <td>TLC</td>\n",
       "      <td>/wiki/TLC_(band)</td>\n",
       "    </tr>\n",
       "    <tr>\n",
       "      <th>...</th>\n",
       "      <td>...</td>\n",
       "      <td>...</td>\n",
       "      <td>...</td>\n",
       "      <td>...</td>\n",
       "      <td>...</td>\n",
       "      <td>...</td>\n",
       "      <td>...</td>\n",
       "    </tr>\n",
       "    <tr>\n",
       "      <th>4194</th>\n",
       "      <td>2022</td>\n",
       "      <td>97</td>\n",
       "      <td>To the Moon</td>\n",
       "      <td>/wiki/To_the_Moon_(song)</td>\n",
       "      <td>\"To the Moon\"</td>\n",
       "      <td>Jnr Choi</td>\n",
       "      <td>/wiki/Jnr_Choi</td>\n",
       "    </tr>\n",
       "    <tr>\n",
       "      <th>4195</th>\n",
       "      <td>2022</td>\n",
       "      <td>98</td>\n",
       "      <td>Unholy</td>\n",
       "      <td>/wiki/Unholy_(Sam_Smith_and_Kim_Petras_song)</td>\n",
       "      <td>\"Unholy\"</td>\n",
       "      <td>Sam Smith</td>\n",
       "      <td>/wiki/Sam_Smith</td>\n",
       "    </tr>\n",
       "    <tr>\n",
       "      <th>4196</th>\n",
       "      <td>2022</td>\n",
       "      <td>98</td>\n",
       "      <td>Unholy</td>\n",
       "      <td>/wiki/Unholy_(Sam_Smith_and_Kim_Petras_song)</td>\n",
       "      <td>\"Unholy\"</td>\n",
       "      <td>Kim Petras</td>\n",
       "      <td>/wiki/Kim_Petras</td>\n",
       "    </tr>\n",
       "    <tr>\n",
       "      <th>4197</th>\n",
       "      <td>2022</td>\n",
       "      <td>99</td>\n",
       "      <td>One Mississippi</td>\n",
       "      <td>/wiki/One_Mississippi_(song)</td>\n",
       "      <td>\"One Mississippi\"</td>\n",
       "      <td>Kane Brown</td>\n",
       "      <td>/wiki/Kane_Brown</td>\n",
       "    </tr>\n",
       "    <tr>\n",
       "      <th>4198</th>\n",
       "      <td>2022</td>\n",
       "      <td>100</td>\n",
       "      <td>Circles Around This Town</td>\n",
       "      <td>/wiki/Circles_Around_This_Town</td>\n",
       "      <td>\"Circles Around This Town\"</td>\n",
       "      <td>Maren Morris</td>\n",
       "      <td>/wiki/Maren_Morris</td>\n",
       "    </tr>\n",
       "  </tbody>\n",
       "</table>\n",
       "<p>4199 rows × 7 columns</p>\n",
       "</div>"
      ],
      "text/plain": [
       "      year  ranking                      song  \\\n",
       "0     1992        1           End of the Road   \n",
       "1     1992        2             Baby Got Back   \n",
       "2     1992        3                      Jump   \n",
       "3     1992        4    Save the Best for Last   \n",
       "4     1992        5            Baby-Baby-Baby   \n",
       "...    ...      ...                       ...   \n",
       "4194  2022       97               To the Moon   \n",
       "4195  2022       98                    Unholy   \n",
       "4196  2022       98                    Unholy   \n",
       "4197  2022       99           One Mississippi   \n",
       "4198  2022      100  Circles Around This Town   \n",
       "\n",
       "                                           songurl  \\\n",
       "0         /wiki/End_of_the_Road_(Boyz_II_Men_song)   \n",
       "1                              /wiki/Baby_Got_Back   \n",
       "2                     /wiki/Jump_(Kris_Kross_song)   \n",
       "3                     /wiki/Save_the_Best_for_Last   \n",
       "4                             /wiki/Baby-Baby-Baby   \n",
       "...                                            ...   \n",
       "4194                      /wiki/To_the_Moon_(song)   \n",
       "4195  /wiki/Unholy_(Sam_Smith_and_Kim_Petras_song)   \n",
       "4196  /wiki/Unholy_(Sam_Smith_and_Kim_Petras_song)   \n",
       "4197                  /wiki/One_Mississippi_(song)   \n",
       "4198                /wiki/Circles_Around_This_Town   \n",
       "\n",
       "                       titletext       band_singer                        url  \n",
       "0              \"End of the Road\"       Boyz II Men          /wiki/Boyz_II_Men  \n",
       "1                \"Baby Got Back\"     Sir Mix-a-Lot        /wiki/Sir_Mix-a-Lot  \n",
       "2                         \"Jump\"        Kris Kross           /wiki/Kris_Kross  \n",
       "3       \"Save the Best for Last\"  Vanessa Williams  /wiki/Vanessa_L._Williams  \n",
       "4               \"Baby-Baby-Baby\"               TLC           /wiki/TLC_(band)  \n",
       "...                          ...               ...                        ...  \n",
       "4194               \"To the Moon\"          Jnr Choi             /wiki/Jnr_Choi  \n",
       "4195                    \"Unholy\"         Sam Smith            /wiki/Sam_Smith  \n",
       "4196                    \"Unholy\"        Kim Petras           /wiki/Kim_Petras  \n",
       "4197           \"One Mississippi\"        Kane Brown           /wiki/Kane_Brown  \n",
       "4198  \"Circles Around This Town\"      Maren Morris         /wiki/Maren_Morris  \n",
       "\n",
       "[4199 rows x 7 columns]"
      ]
     },
     "execution_count": 30,
     "metadata": {},
     "output_type": "execute_result"
    }
   ],
   "source": [
    "import pickle\n",
    "from itertools import zip_longest\n",
    "\n",
    "# Load the data from the JSON file\n",
    "with open('year_song_data.json', 'r') as file:\n",
    "    year_song_data = json.load(file)\n",
    "\n",
    "    \n",
    "# Function to flatten the JSON data\n",
    "def flatten_json(json_data):\n",
    "    flattened_data = []\n",
    "    for record in json_data:\n",
    "        year = record['year']\n",
    "        ranking = record['ranking']\n",
    "        titletext = record['titletext']\n",
    "        \n",
    "        song_fill = None\n",
    "        songurl_fill = None\n",
    "        band_singer_fill = None\n",
    "        url_fill = None\n",
    "        \n",
    "        for song, songurl, band_singer, url in zip_longest(\n",
    "            record['song'],\n",
    "            record['songurl'],\n",
    "            record['band_singer'],\n",
    "            record['url'],\n",
    "            fillvalue=None\n",
    "        ):\n",
    "            if song is not None:\n",
    "                song_fill = song\n",
    "            if songurl is not None:\n",
    "                songurl_fill = songurl\n",
    "            if band_singer is not None:\n",
    "                band_singer_fill = band_singer\n",
    "            if url is not None:\n",
    "                url_fill = url\n",
    "            \n",
    "            flattened_data.append({\n",
    "                'year': year,\n",
    "                'ranking': ranking,\n",
    "                'song': song_fill,\n",
    "                'songurl': songurl_fill,\n",
    "                'titletext': titletext,\n",
    "                'band_singer': band_singer_fill,\n",
    "                'url': url_fill\n",
    "            })\n",
    "    \n",
    "    return flattened_data\n",
    "\n",
    "\n",
    "# Flatten the JSON data\n",
    "flattened_data = flatten_json(year_song_data)\n",
    "\n",
    "# Create DataFrame from flattened data\n",
    "billboardtop = pd.DataFrame(flattened_data)\n",
    "\n",
    "# Convert data types if needed\n",
    "billboardtop['year'] = billboardtop['year'].astype(int)\n",
    "billboardtop['ranking'] = billboardtop['ranking'].astype(int)\n",
    "\n",
    "# Reset the index\n",
    "billboardtop = billboardtop.reset_index(drop=True)\n",
    "\n",
    "## Store the DataFrame in ADLS\n",
    "## billboardtop.to_parquet('adls_path/billboardtop.parquet', engine='pyarrow')\n",
    "\n",
    "## print(\"Data stored in ADLS as 'billboardtop.parquet'.\")\n",
    "\n",
    "\n",
    " # Save the DataFrame as a pickle file\n",
    "with open('billboardtop.pickle', 'wb') as file:\n",
    "    pickle.dump(billboardtop, file)\n",
    "\n",
    "print(\"Data saved as 'billboardtop.pickle'.\")\n",
    "billboardtop"
   ]
  },
  {
   "cell_type": "markdown",
   "metadata": {
    "id": "QmtbYTjl8rR0"
   },
   "source": [
    "# Part B: Constructing a year-song-singer dataframe\n",
    "\n",
    "Now, we need to fetch information about the singers or bands for all the songs we have in the `billboardtop` dataframe.\n",
    "\n",
    "**Question 1:** Scrape and Parse Wikipedia for information about Artists and Bands\n",
    "\n",
    "**1.1** Scrape the artist's Wikipedia webpages.\n",
    "\n",
    "<details>\n",
    "\n",
    "Since we have hundreds of artists webpages to scrape, we have created a function which implements caching in order to speed up this process.\n",
    "\n",
    "The cache object urlcache that will avoid redundant HTTP requests (e.g. an artist might have multiple singles on a single year, or be on the list over a span of years). **Remember that this function is designed to be used in a loop over years, and then a loop over songs per year.** Since network requests are relatively slow, if we have already requested for a singer or band's wikipedia page, caching the results is a smart thing to do.\n",
    "\n",
    "Notice that we have wrapped the call in an exception block. If the request gets an HTTP code different from 200, the cells for that URL will have a value of 1; and if the request completely fails (e.g. no network connection) the cell will have a value of 2. This will allow you to analyse the failed requests.\n",
    "\n",
    "</details>\n",
    "\n",
    "**1.2** Parse the HTML retrieved to extract genre of the artist, date of birth, years active and other artist information.\n",
    "\n",
    "<details>\n",
    "\n",
    "- Write a function `singer_band_info(url, page_text)` that returns a dictionary. \n",
    "\n",
    "  Here `url` should be the the url corresponding to the singer's Wikipedia page (same as the previous dataframe `billboardtop`), and page_text should be the HTML text for the corresponding artist's webpage. This function should return a dictionary which contains the following information:\n",
    "\n",
    "  1. The genres of the band or singer. These genres should be urls, to ensure their uniqueness. Create a list, `genres`, of these urls. If there are no genres, use `['NA']`.\n",
    "\n",
    "  2. If the page has the text \"Born\", extract the element with the class `.bday`. If there is no \"Born\", store `False`. Store either of these into the variable `born`. \n",
    "\n",
    "  3. If the text \"Years active\" is found, but there is no birthday, assume a band. Store the years active into the variable `ya`, or `False` if the text is not found. \n",
    "\n",
    "  The dictionary returned should be of the form:\n",
    "  ```\n",
    "  { 'url': '/wiki/Boyz_II_Men', \n",
    "  'genres': ['/wiki/Contemporary_R%26B_music', '/wiki/Soul_music', '/wiki/New_jack_swing'], \n",
    "  'born': None, \n",
    "  'ya': '1987–present'}\n",
    "  ```\n",
    "- Once the above function is created, generate a list `singer_band_info_list` to store the information extracted above. `singer_band_info_list` should be a list of the dictionaries that the function `singer_band_info` returns. The list should look something like this:\n",
    "```\n",
    "  'genres': ['/wiki/Contemporary_R%26B_music',\n",
    "   '/wiki/Soul_music',\n",
    "   '/wiki/New_jack_swing'],\n",
    "  'url': '/wiki/Boyz_II_Men',\n",
    "  'ya': '1987–present'},\n",
    " {'born': None,\n",
    "  'genres': ['/wiki/Pop_music',\n",
    "   '/wiki/Electronica_music',\n",
    "   '/wiki/Dance_music',\n",
    "   '/wiki/Rave_music',\n",
    "   '/wiki/House_music'],\n",
    "  'url': '/wiki/KWS_(band)',\n",
    "  'ya': '1991–1994'},\n",
    " ... and so on]\n",
    "  ```\n",
    "<br>\n",
    "\n",
    "  **Note:** Wikipedia has changed it's format along the years! So observing one artist's webpage and building your function based on it will probably give you tons of errors. Here are a few issues to remember while parsing:\n",
    "\n",
    "    1. There are several artists that take a sabbatical between their active years (https://en.wikipedia.org/wiki/Tony!_Toni!_Ton%C3%A9!). To get the right data, write a function to calculate the longest period of time they were active and consider that as your variable `years active`. In the example give, this would be 2003–present.\n",
    "    2. Birthday's are given in different formats for different pages. For example - https://en.wikipedia.org/wiki/Sir_Mix-a-Lot and https://en.wikipedia.org/wiki/Ed_Sheeran have different formats. To ensure that you get the right day, look for the 'span' tag with a 'bday' tag and ensure that there are no paranthesis around the extracted text.\n",
    "    3. Year's active are also given in different formats. For example - https://en.wikipedia.org/wiki/Boyz_II_Men and https://en.wikipedia.org/wiki/Ed_Sheeran are different. You could use regex (\"[0-9]{4}[–][0-9]{4}\" and \"[0-9]{4}[–][0-9]{4}\") to ensure you are getting the right years.\n",
    "\n",
    "  Definitely do look at your outputs as you are parsing as it can identify several edge cases you have not considered in your code.\n",
    "\n",
    "</details>\n",
    "\n",
    "**Question 2:** Construct a DataFrame from parsed data\n",
    "\n",
    "**2.1** Construct a dataframe from the list `singer_band_info_list` and convert them to the correct data types if needed.\n",
    "\n",
    "<details>\n",
    "\n",
    "- Construct a dataframe from the list created in the previous section yearinfo. Name this dataframe `singerbandinfo`.\n",
    "\n",
    "  Your dataframe `singerbandinfo` should look something like this:\n",
    "\n",
    "  <img src=\"https://drive.google.com/uc?export=view&id=1LZh_J-LsB2p9UW7lCJaSbPNMTH-Bv61p\" width=1500/> \n",
    "\n",
    "- Check dataframe data types using dtypes.\n",
    "- Convert them to the correct data types if needed using the astype() function.\n",
    "\n",
    "\n",
    "</details>\n",
    "\n",
    "**2.2** Merge `billboardtop` and `singerbandinfo` to create one dataframe.\n",
    "\n",
    "<details>\n",
    "\n",
    "- Merge the artist/song data frames into one large dataframe named `finaldf` on url. Your  dataframe should look something like this:\n",
    "  <img src=\"https://drive.google.com/uc?export=view&id=1JMoV2gvIpIQ4tDGwidT7eAGKGusF8V0Z\" width=1500/> \n",
    "\n",
    "  Note that this has an effect of imputing to a song all the genres that the artist is active in. We know that this is not true, but it is the simplest assumption we can make, and is probably good for most artists.\n",
    "\n",
    "</details>"
   ]
  },
  {
   "cell_type": "markdown",
   "metadata": {
    "id": "8kB54u81xJk-"
   },
   "source": [
    "### Solutions"
   ]
  },
  {
   "cell_type": "markdown",
   "metadata": {
    "id": "JuL6xVq1xN47"
   },
   "source": [
    "#### Question 1: Scrape and Parse Wikipedia for information about Artists and Bands"
   ]
  },
  {
   "cell_type": "markdown",
   "metadata": {
    "id": "byvQaqnFxcHZ"
   },
   "source": [
    "**1.1** Scrape the artist's Wikipedia webpages."
   ]
  },
  {
   "cell_type": "markdown",
   "metadata": {},
   "source": [
    "* Hint: Before you apply uour function to the dataframe, sort `billboardtop` by year. This will ensure that we will hit the cache most as singers who show up repeatedly in the rankings will have their information already pulled.\n",
    "\n",
    "This is optional from the perspective to optimization, you can choose to ignore it but then you will have higher run time at your end and you will end up writing more code to maintain data sanity."
   ]
  },
  {
   "cell_type": "code",
   "execution_count": 87,
   "metadata": {
    "executionInfo": {
     "elapsed": 1,
     "status": "ok",
     "timestamp": 1653658771530,
     "user": {
      "displayName": "Arya Mohan",
      "userId": "15606194433450766788"
     },
     "user_tz": -330
    },
    "id": "xLIr5RLOlm8C",
    "jupyter": {
     "outputs_hidden": false
    },
    "scrolled": true
   },
   "outputs": [],
   "source": [
    "urlcache={}\n",
    "def get_page(url):\n",
    "    if (url not in urlcache) or (urlcache[url]==1) or (urlcache[url]==2):\n",
    "        time.sleep(1)\n",
    "        try:\n",
    "            r = requests.get(\"http://en.wikipedia.org%s\" % url)\n",
    "            if r.status_code == 200:\n",
    "                urlcache[url] = r.text\n",
    "            else:\n",
    "                urlcache[url] = 1\n",
    "        except:\n",
    "            urlcache[url] = 2\n",
    "    return urlcache[url]"
   ]
  },
  {
   "cell_type": "code",
   "execution_count": 88,
   "metadata": {
    "colab": {
     "base_uri": "https://localhost:8080/"
    },
    "executionInfo": {
     "elapsed": 1765677,
     "status": "ok",
     "timestamp": 1653660540815,
     "user": {
      "displayName": "Arya Mohan",
      "userId": "15606194433450766788"
     },
     "user_tz": -330
    },
    "id": "jGHEg1IDlm8O",
    "jupyter": {
     "outputs_hidden": true
    },
    "outputId": "df1ec7d5-b8fa-4308-9db1-8eba93d42fe4",
    "scrolled": true
   },
   "outputs": [
    {
     "data": {
      "text/plain": [
       "0       <!DOCTYPE html>\\n<html class=\"client-nojs vect...\n",
       "1       <!DOCTYPE html>\\n<html class=\"client-nojs vect...\n",
       "2       <!DOCTYPE html>\\n<html class=\"client-nojs vect...\n",
       "3       <!DOCTYPE html>\\n<html class=\"client-nojs vect...\n",
       "4       <!DOCTYPE html>\\n<html class=\"client-nojs vect...\n",
       "                              ...                        \n",
       "4194    <!DOCTYPE html>\\n<html class=\"client-nojs vect...\n",
       "4195    <!DOCTYPE html>\\n<html class=\"client-nojs vect...\n",
       "4196    <!DOCTYPE html>\\n<html class=\"client-nojs vect...\n",
       "4197    <!DOCTYPE html>\\n<html class=\"client-nojs vect...\n",
       "4198    <!DOCTYPE html>\\n<html class=\"client-nojs vect...\n",
       "Name: url, Length: 4199, dtype: object"
      ]
     },
     "execution_count": 88,
     "metadata": {},
     "output_type": "execute_result"
    }
   ],
   "source": [
    "# Here I am populating the url cache\n",
    "# Note that this function will take around 20 minutes to run as we are requesting for several pages\n",
    "# This function is designed to be run again and again: it just tries to make sure that there are no unresolved pages left. \n",
    "billboardtop[\"url\"].apply(get_page)"
   ]
  },
  {
   "cell_type": "code",
   "execution_count": 89,
   "metadata": {
    "colab": {
     "base_uri": "https://localhost:8080/"
    },
    "executionInfo": {
     "elapsed": 8,
     "status": "ok",
     "timestamp": 1653660540816,
     "user": {
      "displayName": "Arya Mohan",
      "userId": "15606194433450766788"
     },
     "user_tz": -330
    },
    "id": "vtH5ch-Jlm8X",
    "jupyter": {
     "outputs_hidden": false
    },
    "outputId": "380967e1-4187-4b65-d5ea-7b7372f890f9",
    "scrolled": true
   },
   "outputs": [
    {
     "name": "stdout",
     "output_type": "stream",
     "text": [
      "0\n",
      "Did we get all the URLs? True\n"
     ]
    }
   ],
   "source": [
    "# Make sure that there are no unresolved pages\n",
    "# The sum below should be 0, and the boolean True. If that is not the case, run the above cell again until you get a sum of 0 and a boolean True\n",
    "print (np.sum([(urlcache[k]==1) or (urlcache[k]==2) and isinstance(k,str) for k in urlcache]))\n",
    "print (\"Did we get all the URLs?\",len(billboardtop.url.unique())==len(urlcache))"
   ]
  },
  {
   "cell_type": "code",
   "execution_count": 90,
   "metadata": {
    "executionInfo": {
     "elapsed": 2639,
     "status": "ok",
     "timestamp": 1653660543451,
     "user": {
      "displayName": "Arya Mohan",
      "userId": "15606194433450766788"
     },
     "user_tz": -330
    },
    "id": "u-g3mOWrlm8c",
    "jupyter": {
     "outputs_hidden": false
    }
   },
   "outputs": [],
   "source": [
    "# Saving the `urlcache` and removin the old object. \n",
    "keys_values = urlcache.items()\n",
    "urlcache = {str(key): str(value) for key, value in keys_values}\n",
    "with open(\"artistinfo.json\",\"w\") as fd:\n",
    "    json.dump(urlcache, fd)\n",
    "del urlcache"
   ]
  },
  {
   "cell_type": "code",
   "execution_count": 91,
   "metadata": {
    "executionInfo": {
     "elapsed": 3867,
     "status": "ok",
     "timestamp": 1653660547316,
     "user": {
      "displayName": "Arya Mohan",
      "userId": "15606194433450766788"
     },
     "user_tz": -330
    },
    "id": "ctcBqdEPlm8f",
    "jupyter": {
     "outputs_hidden": false
    },
    "scrolled": true
   },
   "outputs": [],
   "source": [
    "# Loading artist info\n",
    "with open(\"artistinfo.json\") as json_file:\n",
    "    urlcache = json.load(json_file)"
   ]
  },
  {
   "cell_type": "code",
   "execution_count": 92,
   "metadata": {
    "colab": {
     "base_uri": "https://localhost:8080/"
    },
    "executionInfo": {
     "elapsed": 10,
     "status": "ok",
     "timestamp": 1653660547317,
     "user": {
      "displayName": "Arya Mohan",
      "userId": "15606194433450766788"
     },
     "user_tz": -330
    },
    "id": "aaflaMIF6N91",
    "outputId": "e5afb222-6434-4022-ee14-f3183676bd6d"
   },
   "outputs": [
    {
     "data": {
      "text/plain": [
       "1353"
      ]
     },
     "execution_count": 92,
     "metadata": {},
     "output_type": "execute_result"
    }
   ],
   "source": [
    "len(urlcache)"
   ]
  },
  {
   "cell_type": "markdown",
   "metadata": {
    "id": "P_G84LnUlm8p"
   },
   "source": [
    "**1.2** Parse the HTML retrieved to extract genre of the artist, date of birth, years active and other artist information."
   ]
  },
  {
   "cell_type": "markdown",
   "metadata": {
    "id": "wepOCDnV2H3p"
   },
   "source": [
    "Before parsing, it is important to note that Wikipedia has defined the same genre in a few different ways. Your parsing code will pick these up as different and new as they all differ with the alphabet case or an underscore instead of a hyphen.\n",
    "\n",
    "I am adding potential duplicates list to make the task a little easier so that the above mentioned issue does not create duplicate data under same categories"
   ]
  },
  {
   "cell_type": "code",
   "execution_count": null,
   "metadata": {
    "executionInfo": {
     "elapsed": 5,
     "status": "ok",
     "timestamp": 1653660547317,
     "user": {
      "displayName": "Arya Mohan",
      "userId": "15606194433450766788"
     },
     "user_tz": -330
    },
    "id": "QTSJHvJF3pxu"
   },
   "outputs": [],
   "source": [
    "genres_duplicates= {'/wiki/Adult_Contemporary_music':'/wiki/Adult_contemporary',\n",
    " '/wiki/Adult_contemporary_music':'/wiki/Adult_contemporary',\n",
    "'/wiki/Afrobeat':'/wiki/Afrobeats',\n",
    "'/wiki/Alternative_rock':'/wiki/Alternative_Rock',\n",
    "'/wiki/Avant-garde':'/wiki/Avant-garde_music',\n",
    "'/wiki/Blues':'/wiki/Blues_music',\n",
    "'/wiki/Comedy_hip-hop':'/wiki/Comedy_hip_hop',\n",
    "'/wiki/Contemporary_R%26B':'/wiki/Contemporary_R%26B_music',\n",
    "'/wiki/Contemporary_folk':'/wiki/Contemporary_folk_music',\n",
    "'/wiki/Country_Folk':'/wiki/Country_folk',\n",
    "'/wiki/Dance_pop':'/wiki/Dance-pop',\n",
    "'/wiki/East_Coast_hip_hop':'/wiki/East_coast_hip_hop',\n",
    "'/wiki/Electronic_Dance_Music':'/wiki/Electronic_dance_music',\n",
    "'/wiki/Electronica':'/wiki/Electronica_music',\n",
    "'/wiki/Emo':'/wiki/Emo_music',\n",
    "'/wiki/Electropop':'/wiki/Electro-pop',\n",
    "'/wiki/Folk-pop':'/wiki/Folk_pop',\n",
    "'/wiki/Funk':'/wiki/Funk_music',\n",
    "'/wiki/Grime_(music_genre)':'/wiki/Grime_music',\n",
    "'/wiki/Gangsta_Rap':'/wiki/Gangsta_rap',\n",
    "'/wiki/Hip_Hop_music': '/wiki/Hip_hop','/wiki/Hip_hop_music':'/wiki/Hip_hop',\n",
    "'/wiki/Hyphy':'/wiki/Hyphy_music',\n",
    "'/wiki/Latin_music':'/wiki/Latin_music_(genre)',\n",
    "'/wiki/West_Coast_hip_hop':'/wiki/West_coast_hip_hop',\n",
    "'/wiki/Southern_Hip_Hop':'/wiki/Southern_hip_hop',\n",
    "'/wiki/Ska':'/wiki/Ska_music',\n",
    "'/wiki/Pop-rock':'/wiki/Pop_rock',\n",
    "'/wiki/Pop_Music':'/wiki/Pop_music',\n",
    "'/wiki/Nu_metal':'/wiki/Nu_metal_music',\n",
    "'/wiki/Hard_Rock':'/wiki/Hard_rock',\n",
    "'/wiki/Pop_Rock':'/wiki/Pop_rock',\n",
    "'/wiki/Post-Grunge':'/wiki/Post-grunge',\n",
    "'/wiki/SoundCloud_rap':'/wiki/Soundcloud_rap'}\n",
    "\n",
    "def genre_duplicates(genres):\n",
    "    for i in range(len(genres)):\n",
    "        if genres[i] in genres_duplicates.keys():\n",
    "            genres[i]=genres_duplicates[genres[i]]\n",
    "    return genres "
   ]
  },
  {
   "cell_type": "markdown",
   "metadata": {},
   "source": [
    "**1.2.1** Define a function to calculate the longest active years"
   ]
  },
  {
   "cell_type": "code",
   "execution_count": null,
   "metadata": {
    "executionInfo": {
     "elapsed": 20,
     "status": "aborted",
     "timestamp": 1653658444655,
     "user": {
      "displayName": "Arya Mohan",
      "userId": "15606194433450766788"
     },
     "user_tz": -330
    },
    "id": "iCiUaa3t1mdM"
   },
   "outputs": [],
   "source": [
    "# Start your code here\n",
    "def calculate_longest_active_years(years_active):\n",
    "    if years_active is None:\n",
    "        return None\n",
    "\n",
    "    # Split the years active variable by comma to handle multiple periods\n",
    "    periods = years_active.split(',')\n",
    "\n",
    "    longest_active_years = 0\n",
    "\n",
    "    for period in periods:\n",
    "        if '–' in period:\n",
    "            start_year, end_year = period.split('–')\n",
    "            active_years = int(end_year) - int(start_year) + 1\n",
    "            if active_years > longest_active_years:\n",
    "                longest_active_years = active_years\n",
    "\n",
    "    if longest_active_years == 0:\n",
    "        return None\n",
    "    else:\n",
    "        return longest_active_years\n"
   ]
  },
  {
   "cell_type": "markdown",
   "metadata": {
    "id": "C30IKrh_lm89"
   },
   "source": [
    "**1.2.2** Please write the function `singer_band_info` according to the following specification."
   ]
  },
  {
   "cell_type": "code",
   "execution_count": 31,
   "metadata": {
    "executionInfo": {
     "elapsed": 20,
     "status": "aborted",
     "timestamp": 1653658444655,
     "user": {
      "displayName": "Arya Mohan",
      "userId": "15606194433450766788"
     },
     "user_tz": -330
    },
    "id": "144RCE17lm9C",
    "jupyter": {
     "outputs_hidden": false
    }
   },
   "outputs": [],
   "source": [
    "\"\"\"\n",
    "Function\n",
    "--------\n",
    "singer_band_info\n",
    "\n",
    "Inputs\n",
    "------\n",
    "url: the url\n",
    "page_text: the text associated with the url\n",
    "   \n",
    "Returns\n",
    "-------\n",
    "A dictionary with the following data:\n",
    "    url: copy the input argument url into this value\n",
    "    genres: the genres that the band or singer works in\n",
    "    born: the artist's birthday\n",
    "    ya: years active variable\n",
    "\n",
    "Notes\n",
    "-----\n",
    "See description above. Also note that some of the genres urls might require a \n",
    "bit of care and special handling.\n",
    "\"\"\"\n",
    "# Start your code here\n",
    "\n",
    "\n",
    "def calculate_longest_active_period(years_active):\n",
    "    periods = re.findall(r\"\\d{4}[–]\\d{4}\", years_active)\n",
    "    if periods:\n",
    "        return max(periods)\n",
    "    else:\n",
    "        years_active = re.sub(r\"\\[[0-9]+\\]\", \"\", years_active)\n",
    "        years_active = years_active.strip()\n",
    "        if years_active == \"\":\n",
    "            return None\n",
    "        return years_active\n",
    "\n",
    "\n",
    "def extract_birthday(soup):\n",
    "    bday = soup.find(class_='bday')\n",
    "    if bday:\n",
    "        return bday.text.strip()\n",
    "    else:\n",
    "        return None\n",
    "\n",
    "def extract_years_active(soup):\n",
    "    years_active = soup.find(string=re.compile('Years active', re.IGNORECASE))\n",
    "    if years_active:\n",
    "        return years_active.find_next('td').text.strip()\n",
    "    else:\n",
    "        return None\n",
    "\n",
    "def singer_band_info(url, page_text):\n",
    "    soup = BeautifulSoup(page_text, 'html.parser')\n",
    "    genres = []\n",
    "    \n",
    "    # Extract genres\n",
    "    genre_links = soup.select('div#mw-normal-catlinks ul li a')\n",
    "    for link in genre_links:\n",
    "        genres.append(link['href'])\n",
    "    \n",
    "    if len(genres) == 0:\n",
    "        genres = ['NA']\n",
    "    \n",
    "    # Extract born and years active\n",
    "    born = extract_birthday(soup)\n",
    "    years_active = extract_years_active(soup)\n",
    "    \n",
    "    if years_active:\n",
    "        years_active = calculate_longest_active_period(years_active)\n",
    "    \n",
    "    return {'url': url, 'genres': genres, 'born': born, 'ya': years_active}\n"
   ]
  },
  {
   "cell_type": "markdown",
   "metadata": {
    "id": "r33k0Rv9lm9M"
   },
   "source": [
    "#### Question 2: Construct a DataFrame from parsed data"
   ]
  },
  {
   "cell_type": "markdown",
   "metadata": {
    "id": "NFBbluyq_xUg"
   },
   "source": [
    "**2.1** Construct a dataframe from the list `singer_band_info_list`."
   ]
  },
  {
   "cell_type": "code",
   "execution_count": 33,
   "metadata": {
    "executionInfo": {
     "elapsed": 20,
     "status": "aborted",
     "timestamp": 1653658444656,
     "user": {
      "displayName": "Arya Mohan",
      "userId": "15606194433450766788"
     },
     "user_tz": -330
    },
    "id": "mvihe4PIKBkv",
    "scrolled": true
   },
   "outputs": [
    {
     "name": "stderr",
     "output_type": "stream",
     "text": [
      "\n",
      "[notice] A new release of pip is available: 23.0.1 -> 23.1.2\n",
      "[notice] To update, run: python.exe -m pip install --upgrade pip\n"
     ]
    },
    {
     "name": "stdout",
     "output_type": "stream",
     "text": [
      "Collecting tqdm\n",
      "  Downloading tqdm-4.65.0-py3-none-any.whl (77 kB)\n",
      "     -------------------------------------- 77.1/77.1 kB 388.7 kB/s eta 0:00:00\n",
      "Requirement already satisfied: colorama in c:\\users\\himanshu\\appdata\\local\\programs\\python\\python310\\lib\\site-packages (from tqdm) (0.4.5)\n",
      "Installing collected packages: tqdm\n",
      "Successfully installed tqdm-4.65.0\n"
     ]
    },
    {
     "name": "stderr",
     "output_type": "stream",
     "text": [
      "  5%|████                                                                         | 221/4199 [08:33<3:30:26,  3.17s/it]"
     ]
    },
    {
     "name": "stdout",
     "output_type": "stream",
     "text": [
      "Connection Error: HTTPSConnectionPool(host='en.wikipedia.orgnone', port=443): Max retries exceeded with url: / (Caused by NewConnectionError('<urllib3.connection.HTTPSConnection object at 0x0000025215552EC0>: Failed to establish a new connection: [Errno 11001] getaddrinfo failed'))\n",
      "Connection Error: HTTPSConnectionPool(host='en.wikipedia.orgnone', port=443): Max retries exceeded with url: / (Caused by NewConnectionError('<urllib3.connection.HTTPSConnection object at 0x0000025215552EC0>: Failed to establish a new connection: [Errno 11001] getaddrinfo failed'))\n"
     ]
    },
    {
     "name": "stderr",
     "output_type": "stream",
     "text": [
      "  5%|████▏                                                                        | 230/4199 [08:56<2:31:45,  2.29s/it]"
     ]
    },
    {
     "name": "stdout",
     "output_type": "stream",
     "text": [
      "Connection Error: HTTPSConnectionPool(host='en.wikipedia.orgnone', port=443): Max retries exceeded with url: / (Caused by NewConnectionError('<urllib3.connection.HTTPSConnection object at 0x0000025216AFA9B0>: Failed to establish a new connection: [Errno 11001] getaddrinfo failed'))\n",
      "Connection Error: HTTPSConnectionPool(host='en.wikipedia.orgnone', port=443): Max retries exceeded with url: / (Caused by NewConnectionError('<urllib3.connection.HTTPSConnection object at 0x0000025216AFA9B0>: Failed to establish a new connection: [Errno 11001] getaddrinfo failed'))\n",
      "Connection Error: HTTPSConnectionPool(host='en.wikipedia.orgnone', port=443): Max retries exceeded with url: / (Caused by NewConnectionError('<urllib3.connection.HTTPSConnection object at 0x0000025216AFA680>: Failed to establish a new connection: [Errno 11001] getaddrinfo failed'))\n"
     ]
    },
    {
     "name": "stderr",
     "output_type": "stream",
     "text": [
      "  6%|████▍                                                                        | 243/4199 [09:22<1:55:30,  1.75s/it]"
     ]
    },
    {
     "name": "stdout",
     "output_type": "stream",
     "text": [
      "Connection Error: HTTPSConnectionPool(host='en.wikipedia.orgnone', port=443): Max retries exceeded with url: / (Caused by NewConnectionError('<urllib3.connection.HTTPSConnection object at 0x00000252173683A0>: Failed to establish a new connection: [Errno 11001] getaddrinfo failed'))\n",
      "Connection Error: HTTPSConnectionPool(host='en.wikipedia.orgnone', port=443): Max retries exceeded with url: / (Caused by NewConnectionError('<urllib3.connection.HTTPSConnection object at 0x00000252173683A0>: Failed to establish a new connection: [Errno 11001] getaddrinfo failed'))\n"
     ]
    },
    {
     "name": "stderr",
     "output_type": "stream",
     "text": [
      "\r",
      "  6%|████▌                                                                        | 246/4199 [09:24<1:10:34,  1.07s/it]"
     ]
    },
    {
     "name": "stdout",
     "output_type": "stream",
     "text": [
      "Connection Error: HTTPSConnectionPool(host='en.wikipedia.orgnone', port=443): Max retries exceeded with url: / (Caused by NewConnectionError('<urllib3.connection.HTTPSConnection object at 0x0000025217074D90>: Failed to establish a new connection: [Errno 11001] getaddrinfo failed'))\n",
      "Connection Error: HTTPSConnectionPool(host='en.wikipedia.orgnone', port=443): Max retries exceeded with url: / (Caused by NewConnectionError('<urllib3.connection.HTTPSConnection object at 0x0000025217074D90>: Failed to establish a new connection: [Errno 11001] getaddrinfo failed'))\n"
     ]
    },
    {
     "name": "stderr",
     "output_type": "stream",
     "text": [
      "  6%|████▊                                                                        | 262/4199 [09:47<1:53:34,  1.73s/it]"
     ]
    },
    {
     "name": "stdout",
     "output_type": "stream",
     "text": [
      "Connection Error: HTTPSConnectionPool(host='en.wikipedia.orgnone', port=443): Max retries exceeded with url: / (Caused by NewConnectionError('<urllib3.connection.HTTPSConnection object at 0x0000025216B795D0>: Failed to establish a new connection: [Errno 11001] getaddrinfo failed'))\n"
     ]
    },
    {
     "name": "stderr",
     "output_type": "stream",
     "text": [
      "\r",
      "  6%|████▊                                                                        | 264/4199 [09:48<1:24:34,  1.29s/it]"
     ]
    },
    {
     "name": "stdout",
     "output_type": "stream",
     "text": [
      "Connection Error: HTTPSConnectionPool(host='en.wikipedia.orgnone', port=443): Max retries exceeded with url: / (Caused by NewConnectionError('<urllib3.connection.HTTPSConnection object at 0x0000025215607C40>: Failed to establish a new connection: [Errno 11001] getaddrinfo failed'))\n",
      "Connection Error: HTTPSConnectionPool(host='en.wikipedia.orgnone', port=443): Max retries exceeded with url: / (Caused by NewConnectionError('<urllib3.connection.HTTPSConnection object at 0x0000025215607C40>: Failed to establish a new connection: [Errno 11001] getaddrinfo failed'))\n"
     ]
    },
    {
     "name": "stderr",
     "output_type": "stream",
     "text": [
      "  7%|█████                                                                        | 279/4199 [10:17<2:05:22,  1.92s/it]"
     ]
    },
    {
     "name": "stdout",
     "output_type": "stream",
     "text": [
      "Connection Error: HTTPSConnectionPool(host='en.wikipedia.orgnone', port=443): Max retries exceeded with url: / (Caused by NewConnectionError('<urllib3.connection.HTTPSConnection object at 0x0000025216ACF2E0>: Failed to establish a new connection: [Errno 11001] getaddrinfo failed'))\n"
     ]
    },
    {
     "name": "stderr",
     "output_type": "stream",
     "text": [
      "\r",
      "  7%|█████▏                                                                       | 281/4199 [10:19<1:37:59,  1.50s/it]"
     ]
    },
    {
     "name": "stdout",
     "output_type": "stream",
     "text": [
      "Connection Error: HTTPSConnectionPool(host='en.wikipedia.orgnone', port=443): Max retries exceeded with url: / (Caused by NewConnectionError('<urllib3.connection.HTTPSConnection object at 0x0000025215F24310>: Failed to establish a new connection: [Errno 11001] getaddrinfo failed'))\n"
     ]
    },
    {
     "name": "stderr",
     "output_type": "stream",
     "text": [
      "  7%|█████▏                                                                       | 284/4199 [10:22<1:22:41,  1.27s/it]"
     ]
    },
    {
     "name": "stdout",
     "output_type": "stream",
     "text": [
      "Connection Error: HTTPSConnectionPool(host='en.wikipedia.orgnone', port=443): Max retries exceeded with url: / (Caused by NewConnectionError('<urllib3.connection.HTTPSConnection object at 0x0000025215CDE320>: Failed to establish a new connection: [Errno 11001] getaddrinfo failed'))\n"
     ]
    },
    {
     "name": "stderr",
     "output_type": "stream",
     "text": [
      "\r",
      "  7%|█████▏                                                                       | 286/4199 [10:25<1:32:15,  1.41s/it]"
     ]
    },
    {
     "name": "stdout",
     "output_type": "stream",
     "text": [
      "Connection Error: HTTPSConnectionPool(host='en.wikipedia.orgnone', port=443): Max retries exceeded with url: / (Caused by NewConnectionError('<urllib3.connection.HTTPSConnection object at 0x0000025214748FA0>: Failed to establish a new connection: [Errno 11001] getaddrinfo failed'))\n",
      "Connection Error: HTTPSConnectionPool(host='en.wikipedia.orgnone', port=443): Max retries exceeded with url: / (Caused by NewConnectionError('<urllib3.connection.HTTPSConnection object at 0x0000025214748FA0>: Failed to establish a new connection: [Errno 11001] getaddrinfo failed'))\n",
      "Connection Error: HTTPSConnectionPool(host='en.wikipedia.orgnone', port=443): Max retries exceeded with url: / (Caused by NewConnectionError('<urllib3.connection.HTTPSConnection object at 0x0000025214749600>: Failed to establish a new connection: [Errno 11001] getaddrinfo failed'))\n",
      "Connection Error: HTTPSConnectionPool(host='en.wikipedia.orgnone', port=443): Max retries exceeded with url: / (Caused by NewConnectionError('<urllib3.connection.HTTPSConnection object at 0x0000025214749E40>: Failed to establish a new connection: [Errno 11001] getaddrinfo failed'))\n"
     ]
    },
    {
     "name": "stderr",
     "output_type": "stream",
     "text": [
      "  7%|█████▌                                                                       | 301/4199 [10:43<1:59:53,  1.85s/it]"
     ]
    },
    {
     "name": "stdout",
     "output_type": "stream",
     "text": [
      "Connection Error: HTTPSConnectionPool(host='en.wikipedia.orgnone', port=443): Max retries exceeded with url: / (Caused by NewConnectionError('<urllib3.connection.HTTPSConnection object at 0x0000025215D6EE60>: Failed to establish a new connection: [Errno 11001] getaddrinfo failed'))\n"
     ]
    },
    {
     "name": "stderr",
     "output_type": "stream",
     "text": [
      "  7%|█████▋                                                                       | 307/4199 [10:54<2:03:33,  1.90s/it]"
     ]
    },
    {
     "name": "stdout",
     "output_type": "stream",
     "text": [
      "Connection Error: HTTPSConnectionPool(host='en.wikipedia.orgnone', port=443): Max retries exceeded with url: / (Caused by NewConnectionError('<urllib3.connection.HTTPSConnection object at 0x00000252170C0730>: Failed to establish a new connection: [Errno 11001] getaddrinfo failed'))\n"
     ]
    },
    {
     "name": "stderr",
     "output_type": "stream",
     "text": [
      "\r",
      "  7%|█████▋                                                                       | 309/4199 [10:56<1:43:07,  1.59s/it]"
     ]
    },
    {
     "name": "stdout",
     "output_type": "stream",
     "text": [
      "Connection Error: HTTPSConnectionPool(host='en.wikipedia.orgnone', port=443): Max retries exceeded with url: / (Caused by NewConnectionError('<urllib3.connection.HTTPSConnection object at 0x0000025216AF1A80>: Failed to establish a new connection: [Errno 11001] getaddrinfo failed'))\n"
     ]
    },
    {
     "name": "stderr",
     "output_type": "stream",
     "text": [
      "  7%|█████▋                                                                       | 313/4199 [11:02<1:39:30,  1.54s/it]"
     ]
    },
    {
     "name": "stdout",
     "output_type": "stream",
     "text": [
      "Connection Error: HTTPSConnectionPool(host='en.wikipedia.orgnone', port=443): Max retries exceeded with url: / (Caused by NewConnectionError('<urllib3.connection.HTTPSConnection object at 0x0000025215550A90>: Failed to establish a new connection: [Errno 11001] getaddrinfo failed'))\n"
     ]
    },
    {
     "name": "stderr",
     "output_type": "stream",
     "text": [
      "\r",
      "  8%|█████▊                                                                       | 315/4199 [11:04<1:17:25,  1.20s/it]"
     ]
    },
    {
     "name": "stdout",
     "output_type": "stream",
     "text": [
      "Connection Error: HTTPSConnectionPool(host='en.wikipedia.orgnone', port=443): Max retries exceeded with url: / (Caused by NewConnectionError('<urllib3.connection.HTTPSConnection object at 0x0000025215CDECB0>: Failed to establish a new connection: [Errno 11001] getaddrinfo failed'))\n"
     ]
    },
    {
     "name": "stderr",
     "output_type": "stream",
     "text": [
      "  8%|█████▉                                                                       | 322/4199 [11:16<1:49:46,  1.70s/it]"
     ]
    },
    {
     "name": "stdout",
     "output_type": "stream",
     "text": [
      "Connection Error: HTTPSConnectionPool(host='en.wikipedia.orgnone', port=443): Max retries exceeded with url: / (Caused by NewConnectionError('<urllib3.connection.HTTPSConnection object at 0x000002521720A110>: Failed to establish a new connection: [Errno 11001] getaddrinfo failed'))\n"
     ]
    },
    {
     "name": "stderr",
     "output_type": "stream",
     "text": [
      "  8%|██████                                                                       | 331/4199 [11:38<2:24:12,  2.24s/it]"
     ]
    },
    {
     "name": "stdout",
     "output_type": "stream",
     "text": [
      "Connection Error: HTTPSConnectionPool(host='en.wikipedia.orgnone', port=443): Max retries exceeded with url: / (Caused by NewConnectionError('<urllib3.connection.HTTPSConnection object at 0x0000025214F6CD30>: Failed to establish a new connection: [Errno 11001] getaddrinfo failed'))\n"
     ]
    },
    {
     "name": "stderr",
     "output_type": "stream",
     "text": [
      "  8%|██████▎                                                                      | 346/4199 [12:09<1:57:51,  1.84s/it]"
     ]
    },
    {
     "name": "stdout",
     "output_type": "stream",
     "text": [
      "Connection Error: HTTPSConnectionPool(host='en.wikipedia.orgnone', port=443): Max retries exceeded with url: / (Caused by NewConnectionError('<urllib3.connection.HTTPSConnection object at 0x000002521765E350>: Failed to establish a new connection: [Errno 11001] getaddrinfo failed'))\n"
     ]
    },
    {
     "name": "stderr",
     "output_type": "stream",
     "text": [
      "\r",
      "  8%|██████▍                                                                      | 348/4199 [12:11<1:23:13,  1.30s/it]"
     ]
    },
    {
     "name": "stdout",
     "output_type": "stream",
     "text": [
      "Connection Error: HTTPSConnectionPool(host='en.wikipedia.orgnone', port=443): Max retries exceeded with url: / (Caused by NewConnectionError('<urllib3.connection.HTTPSConnection object at 0x00000252168FD660>: Failed to establish a new connection: [Errno 11001] getaddrinfo failed'))\n"
     ]
    },
    {
     "name": "stderr",
     "output_type": "stream",
     "text": [
      "  8%|██████▍                                                                      | 354/4199 [12:21<1:46:55,  1.67s/it]"
     ]
    },
    {
     "name": "stdout",
     "output_type": "stream",
     "text": [
      "Connection Error: HTTPSConnectionPool(host='en.wikipedia.orgnone', port=443): Max retries exceeded with url: / (Caused by NewConnectionError('<urllib3.connection.HTTPSConnection object at 0x0000025216666A40>: Failed to establish a new connection: [Errno 11001] getaddrinfo failed'))\n"
     ]
    },
    {
     "name": "stderr",
     "output_type": "stream",
     "text": [
      "  9%|██████▌                                                                      | 359/4199 [12:27<1:35:35,  1.49s/it]"
     ]
    },
    {
     "name": "stdout",
     "output_type": "stream",
     "text": [
      "Connection Error: HTTPSConnectionPool(host='en.wikipedia.orgnone', port=443): Max retries exceeded with url: / (Caused by NewConnectionError('<urllib3.connection.HTTPSConnection object at 0x00000252171617E0>: Failed to establish a new connection: [Errno 11001] getaddrinfo failed'))\n"
     ]
    },
    {
     "name": "stderr",
     "output_type": "stream",
     "text": [
      "  9%|██████▊                                                                      | 369/4199 [12:41<1:33:47,  1.47s/it]"
     ]
    },
    {
     "name": "stdout",
     "output_type": "stream",
     "text": [
      "Connection Error: HTTPSConnectionPool(host='en.wikipedia.orgnone', port=443): Max retries exceeded with url: / (Caused by NewConnectionError('<urllib3.connection.HTTPSConnection object at 0x0000025216A839D0>: Failed to establish a new connection: [Errno 11001] getaddrinfo failed'))\n"
     ]
    },
    {
     "name": "stderr",
     "output_type": "stream",
     "text": [
      "\r",
      "  9%|██████▊                                                                      | 371/4199 [12:42<1:04:49,  1.02s/it]"
     ]
    },
    {
     "name": "stdout",
     "output_type": "stream",
     "text": [
      "Connection Error: HTTPSConnectionPool(host='en.wikipedia.orgnone', port=443): Max retries exceeded with url: / (Caused by NewConnectionError('<urllib3.connection.HTTPSConnection object at 0x0000025216918FA0>: Failed to establish a new connection: [Errno 11001] getaddrinfo failed'))\n",
      "Connection Error: HTTPSConnectionPool(host='en.wikipedia.orgnone', port=443): Max retries exceeded with url: / (Caused by NewConnectionError('<urllib3.connection.HTTPSConnection object at 0x0000025216918FA0>: Failed to establish a new connection: [Errno 11001] getaddrinfo failed'))\n"
     ]
    },
    {
     "name": "stderr",
     "output_type": "stream",
     "text": [
      "  9%|██████▉                                                                      | 378/4199 [12:52<1:27:38,  1.38s/it]"
     ]
    },
    {
     "name": "stdout",
     "output_type": "stream",
     "text": [
      "Connection Error: HTTPSConnectionPool(host='en.wikipedia.orgnone', port=443): Max retries exceeded with url: / (Caused by NewConnectionError('<urllib3.connection.HTTPSConnection object at 0x000002521584D1E0>: Failed to establish a new connection: [Errno 11001] getaddrinfo failed'))\n",
      "Connection Error: HTTPSConnectionPool(host='en.wikipedia.orgnone', port=443): Max retries exceeded with url: / (Caused by NewConnectionError('<urllib3.connection.HTTPSConnection object at 0x000002521584D1E0>: Failed to establish a new connection: [Errno 11001] getaddrinfo failed'))\n"
     ]
    },
    {
     "name": "stderr",
     "output_type": "stream",
     "text": [
      "  9%|███████                                                                      | 387/4199 [13:06<1:47:26,  1.69s/it]"
     ]
    },
    {
     "name": "stdout",
     "output_type": "stream",
     "text": [
      "Connection Error: HTTPSConnectionPool(host='en.wikipedia.orgnone', port=443): Max retries exceeded with url: / (Caused by NewConnectionError('<urllib3.connection.HTTPSConnection object at 0x0000025216331510>: Failed to establish a new connection: [Errno 11001] getaddrinfo failed'))\n"
     ]
    },
    {
     "name": "stderr",
     "output_type": "stream",
     "text": [
      "  9%|███████▏                                                                     | 393/4199 [13:14<1:41:25,  1.60s/it]"
     ]
    },
    {
     "name": "stdout",
     "output_type": "stream",
     "text": [
      "Connection Error: HTTPSConnectionPool(host='en.wikipedia.orgnone', port=443): Max retries exceeded with url: / (Caused by NewConnectionError('<urllib3.connection.HTTPSConnection object at 0x00000252169181F0>: Failed to establish a new connection: [Errno 11001] getaddrinfo failed'))\n"
     ]
    },
    {
     "name": "stderr",
     "output_type": "stream",
     "text": [
      "\r",
      "  9%|███████▏                                                                     | 395/4199 [13:17<1:34:32,  1.49s/it]"
     ]
    },
    {
     "name": "stdout",
     "output_type": "stream",
     "text": [
      "Connection Error: HTTPSConnectionPool(host='en.wikipedia.orgnone', port=443): Max retries exceeded with url: / (Caused by NewConnectionError('<urllib3.connection.HTTPSConnection object at 0x0000025214B5ED10>: Failed to establish a new connection: [Errno 11001] getaddrinfo failed'))\n"
     ]
    },
    {
     "name": "stderr",
     "output_type": "stream",
     "text": [
      " 10%|███████▎                                                                     | 402/4199 [13:26<1:26:04,  1.36s/it]"
     ]
    },
    {
     "name": "stdout",
     "output_type": "stream",
     "text": [
      "Connection Error: HTTPSConnectionPool(host='en.wikipedia.orgnone', port=443): Max retries exceeded with url: / (Caused by NewConnectionError('<urllib3.connection.HTTPSConnection object at 0x00000252153D5960>: Failed to establish a new connection: [Errno 11001] getaddrinfo failed'))\n"
     ]
    },
    {
     "name": "stderr",
     "output_type": "stream",
     "text": [
      " 10%|███████▌                                                                     | 415/4199 [13:49<1:41:26,  1.61s/it]"
     ]
    },
    {
     "name": "stdout",
     "output_type": "stream",
     "text": [
      "Connection Error: HTTPSConnectionPool(host='en.wikipedia.orgnone', port=443): Max retries exceeded with url: / (Caused by NewConnectionError('<urllib3.connection.HTTPSConnection object at 0x000002521693C670>: Failed to establish a new connection: [Errno 11001] getaddrinfo failed'))\n",
      "Connection Error: HTTPSConnectionPool(host='en.wikipedia.orgnone', port=443): Max retries exceeded with url: / (Caused by NewConnectionError('<urllib3.connection.HTTPSConnection object at 0x000002521693C670>: Failed to establish a new connection: [Errno 11001] getaddrinfo failed'))\n"
     ]
    },
    {
     "name": "stderr",
     "output_type": "stream",
     "text": [
      " 10%|███████▋                                                                     | 420/4199 [13:53<1:06:17,  1.05s/it]"
     ]
    },
    {
     "name": "stdout",
     "output_type": "stream",
     "text": [
      "Connection Error: HTTPSConnectionPool(host='en.wikipedia.orgnone', port=443): Max retries exceeded with url: / (Caused by NewConnectionError('<urllib3.connection.HTTPSConnection object at 0x0000025216B7A8F0>: Failed to establish a new connection: [Errno 11001] getaddrinfo failed'))\n"
     ]
    },
    {
     "name": "stderr",
     "output_type": "stream",
     "text": [
      " 10%|███████▊                                                                     | 424/4199 [13:56<1:01:50,  1.02it/s]"
     ]
    },
    {
     "name": "stdout",
     "output_type": "stream",
     "text": [
      "Connection Error: HTTPSConnectionPool(host='en.wikipedia.orgnone', port=443): Max retries exceeded with url: / (Caused by NewConnectionError('<urllib3.connection.HTTPSConnection object at 0x0000025216658CD0>: Failed to establish a new connection: [Errno 11001] getaddrinfo failed'))\n"
     ]
    },
    {
     "name": "stderr",
     "output_type": "stream",
     "text": [
      " 15%|███████████▋                                                                 | 640/4199 [19:35<2:10:26,  2.20s/it]"
     ]
    },
    {
     "name": "stdout",
     "output_type": "stream",
     "text": [
      "Connection Error: HTTPSConnectionPool(host='en.wikipedia.orgnone', port=443): Max retries exceeded with url: / (Caused by NewConnectionError('<urllib3.connection.HTTPSConnection object at 0x0000025215185300>: Failed to establish a new connection: [Errno 11001] getaddrinfo failed'))\n"
     ]
    },
    {
     "name": "stderr",
     "output_type": "stream",
     "text": [
      "100%|████████████████████████████████████████████████████████████████████████████| 4199/4199 [2:16:50<00:00,  1.96s/it]\n"
     ]
    }
   ],
   "source": [
    "# Start your code here\n",
    "!pip install tqdm\n",
    "from tqdm import tqdm\n",
    "singer_band_info_list = []\n",
    "\n",
    "for url in tqdm(billboardtop['url']):\n",
    "    full_url = f\"https://en.wikipedia.org{url}\"  # Construct the full URL\n",
    "    try:\n",
    "        response = requests.get(full_url)\n",
    "\n",
    "        if response.status_code == 200:\n",
    "            page_text = response.text\n",
    "            info = singer_band_info(url, page_text)\n",
    "            singer_band_info_list.append(info)\n",
    "        else:\n",
    "            singer_band_info_list.append({'url': url, 'genres': ['NA'], 'born': None, 'ya': None})\n",
    "    except requests.ConnectionError as e:\n",
    "        print(f\"Connection Error: {e}\")\n",
    "        singer_band_info_list.append({'url': url, 'genres': ['NA'], 'born': None, 'ya': None})\n",
    "\n"
   ]
  },
  {
   "cell_type": "markdown",
   "metadata": {
    "id": "ipg0V9b5ILZ9"
   },
   "source": [
    "**2.2** Merge billboardtop and singerbandinfo to create one dataframe."
   ]
  },
  {
   "cell_type": "code",
   "execution_count": 101,
   "metadata": {},
   "outputs": [],
   "source": [
    "with open('singer_band_info_list.json', 'w') as file:\n",
    "    json.dump(singer_band_info_list, file)"
   ]
  },
  {
   "cell_type": "code",
   "execution_count": 34,
   "metadata": {},
   "outputs": [
    {
     "data": {
      "text/html": [
       "<div>\n",
       "<style scoped>\n",
       "    .dataframe tbody tr th:only-of-type {\n",
       "        vertical-align: middle;\n",
       "    }\n",
       "\n",
       "    .dataframe tbody tr th {\n",
       "        vertical-align: top;\n",
       "    }\n",
       "\n",
       "    .dataframe thead th {\n",
       "        text-align: right;\n",
       "    }\n",
       "</style>\n",
       "<table border=\"1\" class=\"dataframe\">\n",
       "  <thead>\n",
       "    <tr style=\"text-align: right;\">\n",
       "      <th></th>\n",
       "      <th>url</th>\n",
       "      <th>genres</th>\n",
       "      <th>born</th>\n",
       "      <th>ya</th>\n",
       "    </tr>\n",
       "  </thead>\n",
       "  <tbody>\n",
       "    <tr>\n",
       "      <th>0</th>\n",
       "      <td>/wiki/Boyz_II_Men</td>\n",
       "      <td>[/wiki/Category:Boyz_II_Men, /wiki/Category:Af...</td>\n",
       "      <td>None</td>\n",
       "      <td>1985–present</td>\n",
       "    </tr>\n",
       "    <tr>\n",
       "      <th>1</th>\n",
       "      <td>/wiki/Sir_Mix-a-Lot</td>\n",
       "      <td>[/wiki/Category:1963_births, /wiki/Category:Li...</td>\n",
       "      <td>1963-08-12</td>\n",
       "      <td>1981–present</td>\n",
       "    </tr>\n",
       "    <tr>\n",
       "      <th>2</th>\n",
       "      <td>/wiki/Kris_Kross</td>\n",
       "      <td>[/wiki/Category:1990_establishments_in_Georgia...</td>\n",
       "      <td>None</td>\n",
       "      <td>2007–2013</td>\n",
       "    </tr>\n",
       "    <tr>\n",
       "      <th>3</th>\n",
       "      <td>/wiki/Vanessa_L._Williams</td>\n",
       "      <td>[/wiki/Category:Vanessa_Williams, /wiki/Catego...</td>\n",
       "      <td>1963-03-18</td>\n",
       "      <td>None</td>\n",
       "    </tr>\n",
       "    <tr>\n",
       "      <th>4</th>\n",
       "      <td>/wiki/TLC_(band)</td>\n",
       "      <td>[/wiki/Category:TLC_(group), /wiki/Category:Af...</td>\n",
       "      <td>None</td>\n",
       "      <td>1990–present</td>\n",
       "    </tr>\n",
       "    <tr>\n",
       "      <th>...</th>\n",
       "      <td>...</td>\n",
       "      <td>...</td>\n",
       "      <td>...</td>\n",
       "      <td>...</td>\n",
       "    </tr>\n",
       "    <tr>\n",
       "      <th>4194</th>\n",
       "      <td>/wiki/Jnr_Choi</td>\n",
       "      <td>[/wiki/Category:Living_people, /wiki/Category:...</td>\n",
       "      <td>1999-05-20</td>\n",
       "      <td>None</td>\n",
       "    </tr>\n",
       "    <tr>\n",
       "      <th>4195</th>\n",
       "      <td>/wiki/Sam_Smith</td>\n",
       "      <td>[/wiki/Category:Sam_Smith_(singer), /wiki/Cate...</td>\n",
       "      <td>1992-05-19</td>\n",
       "      <td>None</td>\n",
       "    </tr>\n",
       "    <tr>\n",
       "      <th>4196</th>\n",
       "      <td>/wiki/Kim_Petras</td>\n",
       "      <td>[/wiki/Category:1992_births, /wiki/Category:Li...</td>\n",
       "      <td>1992-08-27</td>\n",
       "      <td>None</td>\n",
       "    </tr>\n",
       "    <tr>\n",
       "      <th>4197</th>\n",
       "      <td>/wiki/Kane_Brown</td>\n",
       "      <td>[/wiki/Category:American_country_singer-songwr...</td>\n",
       "      <td>1993-10-21</td>\n",
       "      <td>2014–present</td>\n",
       "    </tr>\n",
       "    <tr>\n",
       "      <th>4198</th>\n",
       "      <td>/wiki/Maren_Morris</td>\n",
       "      <td>[/wiki/Category:Maren_Morris, /wiki/Category:1...</td>\n",
       "      <td>1990-04-10</td>\n",
       "      <td>None</td>\n",
       "    </tr>\n",
       "  </tbody>\n",
       "</table>\n",
       "<p>4199 rows × 4 columns</p>\n",
       "</div>"
      ],
      "text/plain": [
       "                            url  \\\n",
       "0             /wiki/Boyz_II_Men   \n",
       "1           /wiki/Sir_Mix-a-Lot   \n",
       "2              /wiki/Kris_Kross   \n",
       "3     /wiki/Vanessa_L._Williams   \n",
       "4              /wiki/TLC_(band)   \n",
       "...                         ...   \n",
       "4194             /wiki/Jnr_Choi   \n",
       "4195            /wiki/Sam_Smith   \n",
       "4196           /wiki/Kim_Petras   \n",
       "4197           /wiki/Kane_Brown   \n",
       "4198         /wiki/Maren_Morris   \n",
       "\n",
       "                                                 genres        born  \\\n",
       "0     [/wiki/Category:Boyz_II_Men, /wiki/Category:Af...        None   \n",
       "1     [/wiki/Category:1963_births, /wiki/Category:Li...  1963-08-12   \n",
       "2     [/wiki/Category:1990_establishments_in_Georgia...        None   \n",
       "3     [/wiki/Category:Vanessa_Williams, /wiki/Catego...  1963-03-18   \n",
       "4     [/wiki/Category:TLC_(group), /wiki/Category:Af...        None   \n",
       "...                                                 ...         ...   \n",
       "4194  [/wiki/Category:Living_people, /wiki/Category:...  1999-05-20   \n",
       "4195  [/wiki/Category:Sam_Smith_(singer), /wiki/Cate...  1992-05-19   \n",
       "4196  [/wiki/Category:1992_births, /wiki/Category:Li...  1992-08-27   \n",
       "4197  [/wiki/Category:American_country_singer-songwr...  1993-10-21   \n",
       "4198  [/wiki/Category:Maren_Morris, /wiki/Category:1...  1990-04-10   \n",
       "\n",
       "                ya  \n",
       "0     1985–present  \n",
       "1     1981–present  \n",
       "2        2007–2013  \n",
       "3             None  \n",
       "4     1990–present  \n",
       "...            ...  \n",
       "4194          None  \n",
       "4195          None  \n",
       "4196          None  \n",
       "4197  2014–present  \n",
       "4198          None  \n",
       "\n",
       "[4199 rows x 4 columns]"
      ]
     },
     "execution_count": 34,
     "metadata": {},
     "output_type": "execute_result"
    }
   ],
   "source": [
    "singerbandinfo = pd.DataFrame(singer_band_info_list)\n",
    "singerbandinfo"
   ]
  },
  {
   "cell_type": "code",
   "execution_count": 93,
   "metadata": {
    "executionInfo": {
     "elapsed": 20,
     "status": "aborted",
     "timestamp": 1653658444656,
     "user": {
      "displayName": "Arya Mohan",
      "userId": "15606194433450766788"
     },
     "user_tz": -330
    },
    "id": "zXmWArJllm9h",
    "jupyter": {
     "outputs_hidden": false
    },
    "scrolled": false
   },
   "outputs": [
    {
     "data": {
      "text/plain": [
       "['/wiki/Category:Boyz_II_Men',\n",
       " '/wiki/Category:African-American_musical_groups',\n",
       " '/wiki/Category:American_contemporary_R%26B_musical_groups',\n",
       " '/wiki/Category:American_vocal_groups',\n",
       " '/wiki/Category:Ballad_music_groups',\n",
       " '/wiki/Category:American_boy_bands',\n",
       " '/wiki/Category:Grammy_Award_winners',\n",
       " '/wiki/Category:Motown_artists',\n",
       " '/wiki/Category:Musical_groups_established_in_1988',\n",
       " '/wiki/Category:Musical_groups_from_Philadelphia',\n",
       " '/wiki/Category:Sony_Music_Publishing_artists',\n",
       " '/wiki/Category:Vocal_quartets',\n",
       " '/wiki/Category:Vocal_trios',\n",
       " '/wiki/Category:Avex_Group_artists',\n",
       " '/wiki/Category:1988_establishments_in_Pennsylvania']"
      ]
     },
     "execution_count": 93,
     "metadata": {},
     "output_type": "execute_result"
    }
   ],
   "source": [
    "# Start your code here\n",
    "\n",
    "# Convert data types if needed\n",
    "singerbandinfo['born'] = singerbandinfo['born'].astype(str)\n",
    "singerbandinfo['ya'] = singerbandinfo['ya'].astype(str)\n",
    "\n",
    "\n",
    "finalDf = pd.merge(billboardtop, singerbandinfo, on='url')\n",
    "finalDf = finalDf.drop_duplicates(subset=['songurl', 'band_singer','song']).reset_index()\n",
    "finalDf.to_csv(\"finalDf.csv\")\n",
    "finalDf.genres[0]"
   ]
  },
  {
   "cell_type": "markdown",
   "metadata": {
    "id": "Mdmfw0ZIGlG5"
   },
   "source": [
    "# Part C: Exploratory Data Analysis (EDA)\n",
    "\n",
    "**Question 1:** What has been the trajectory of various genres in the popular zeitgeist?<br>\n",
    "\n",
    "**1.1** What are the 30 most popular genres?<br>\n",
    "\n",
    "<details>\n",
    "\n",
    "1.1.1 Find the top 30 genres and plot a bar plot of these genres.<br>\n",
    "1.1.2 Feel free to plot any other visualizations that you can think of!<br>\n",
    "1.1.3 Calculate the mean of the dataframe and eliminate the first two columns (`year` and `ranking`) to get means of all the genre columns.<br>\n",
    "1.1.4 Sort it in ascending order and pick the top 30.<br>\n",
    "\n",
    "</details>\n",
    "\n",
    "**1.2** How has the popularity of these 30 genres changed with time?<br>\n",
    "\n",
    "<details>\n",
    "\n",
    "1.2.1 Create a subframe of the ranking and year for each genre.<br>\n",
    "1.2.2 Groupby() function to group by year to create a dataframe that contains the rankings of every song from that genre in a given year.<br>\n",
    "\n",
    "</details>\n",
    "\n",
    "**Question 2:** Who are the highest quality singers?<br>\n",
    "\n",
    "**2.1** Who are the most occurring artists in Billboard's Top 100 list?<br>\n",
    "\n",
    "<details>\n",
    "\n",
    "2.1.1 Count the number of times a singer appears in the top 100 over a certain time period. Consider an artist appearing twice in a year as two appearances.<br>\n",
    "\n",
    "2.1.2 Plot a bar chart of the artists who have occurred at least more than 15 times in the given time frame.<br>\n",
    "\n",
    "</details>\n",
    "\n",
    "\n",
    "\n",
    "**2.3**  What is the age at which singers achieve their top ranking?<br>\n",
    "\n",
    "<details>\n",
    "\n",
    "* Plot a histogram of the age at which artists reach their top ranking.<br>\n",
    "\n",
    "</details>\n",
    "\n",
    "**2.4** At what year since inception do bands reach their top rankings?<br>\n",
    "\n",
    "<details>\n",
    "\n",
    "* Make a similar calculation to plot a histogram of the years since inception at which bands reach their top ranking.<br>\n",
    "    \n",
    "</details>"
   ]
  },
  {
   "cell_type": "markdown",
   "metadata": {
    "id": "vP4btHmCGlHf"
   },
   "source": [
    "### Solutions"
   ]
  },
  {
   "cell_type": "code",
   "execution_count": 94,
   "metadata": {
    "scrolled": false
   },
   "outputs": [
    {
     "data": {
      "image/png": "[encoded data removed]",
      "text/plain": [
       "<Figure size 864x432 with 1 Axes>"
      ]
     },
     "metadata": {
      "needs_background": "light"
     },
     "output_type": "display_data"
    }
   ],
   "source": [
    "# Start your code here\n",
    "\n",
    "import matplotlib.pyplot as plt\n",
    "\n",
    "# Flatten the 'genres' column\n",
    "genre_lists = finalDf['genres'].tolist()\n",
    "all_genres = [genre for sublist in genre_lists for genre in sublist]\n",
    "\n",
    "# Calculate the frequency of each genre\n",
    "genre_counts = pd.Series(all_genres).value_counts()\n",
    "\n",
    "# Get the top 30 genres\n",
    "top_genres = genre_counts.head(30)\n",
    "\n",
    "# Plot a bar plot\n",
    "plt.figure(figsize=(12, 6))\n",
    "top_genres.plot(kind='bar')\n",
    "plt.title('Top 30 Genres')\n",
    "plt.xlabel('Genre')\n",
    "plt.ylabel('Frequency')\n",
    "plt.xticks(rotation=90)\n",
    "plt.savefig('Top 30 Genres.png')\n",
    "plt.show()\n"
   ]
  },
  {
   "cell_type": "code",
   "execution_count": 95,
   "metadata": {},
   "outputs": [
    {
     "name": "stderr",
     "output_type": "stream",
     "text": [
      "C:\\Users\\Himanshu\\AppData\\Local\\Temp\\ipykernel_15312\\1734697809.py:2: FutureWarning: Dropping of nuisance columns in DataFrame reductions (with 'numeric_only=None') is deprecated; in a future version this will raise TypeError.  Select only valid columns before calling the reduction.\n",
      "  genre_means = finalDf.iloc[:, 2:].mean()\n"
     ]
    },
    {
     "data": {
      "image/png": "[encoded data removed]",
      "text/plain": [
       "<Figure size 864x432 with 1 Axes>"
      ]
     },
     "metadata": {
      "needs_background": "light"
     },
     "output_type": "display_data"
    }
   ],
   "source": [
    "# Calculate the mean of the DataFrame\n",
    "genre_means = finalDf.iloc[:, 2:].mean()\n",
    "\n",
    "# Sort the genre means in ascending order\n",
    "genre_means = genre_means.sort_values(ascending=True)\n",
    "\n",
    "# Get the top 30 genre means\n",
    "top_genre_means = genre_means.head(30)\n",
    "\n",
    "# Plot a bar plot\n",
    "plt.figure(figsize=(12, 6))\n",
    "top_genre_means.plot(kind='bar')\n",
    "plt.title('Top 30 Genres (Mean)')\n",
    "plt.xlabel('Genre')\n",
    "plt.ylabel('Mean')\n",
    "plt.xticks(rotation=90)\n",
    "plt.savefig('Top 30 Genres (Mean).png')\n",
    "plt.show()\n"
   ]
  },
  {
   "cell_type": "code",
   "execution_count": 96,
   "metadata": {},
   "outputs": [
    {
     "data": {
      "text/plain": [
       "<Figure size 864x432 with 0 Axes>"
      ]
     },
     "metadata": {},
     "output_type": "display_data"
    },
    {
     "data": {
      "image/png": "[encoded data removed]",
      "text/plain": [
       "<Figure size 432x288 with 1 Axes>"
      ]
     },
     "metadata": {
      "needs_background": "light"
     },
     "output_type": "display_data"
    }
   ],
   "source": [
    "# Create a subframe with ranking and year for each genre\n",
    "subframe = finalDf[['year', 'ranking'] + top_genre_means.index.tolist()]\n",
    "\n",
    "# Group the data by year and calculate the mean ranking for each genre in each year\n",
    "genre_popularity = subframe.groupby('year')[top_genre_means.index.tolist()].mean()\n",
    "\n",
    "# Plot the popularity of the top 30 genres over time\n",
    "plt.figure(figsize=(12, 6))\n",
    "genre_popularity.plot()\n",
    "plt.title('Popularity of Top 30 Genres Over Time')\n",
    "plt.xlabel('Year')\n",
    "plt.ylabel('Mean Ranking')\n",
    "plt.legend(loc='center left', bbox_to_anchor=(1.0, 0.5))\n",
    "plt.xticks(rotation=90)\n",
    "plt.savefig('Popularity of Top 30 Genres Over Time.png')\n",
    "plt.show()\n"
   ]
  },
  {
   "cell_type": "code",
   "execution_count": 97,
   "metadata": {},
   "outputs": [
    {
     "data": {
      "image/png": "[encoded data removed]",
      "text/plain": [
       "<Figure size 864x432 with 1 Axes>"
      ]
     },
     "metadata": {
      "needs_background": "light"
     },
     "output_type": "display_data"
    }
   ],
   "source": [
    "# Count the number of times each artist appears in the top 100\n",
    "artist_counts = finalDf['band_singer'].value_counts()\n",
    "\n",
    "# Get the top 10 most occurring artists\n",
    "top_artists = artist_counts.head(10)\n",
    "\n",
    "# Plot a bar plot of the top 10 most occurring artists\n",
    "plt.figure(figsize=(12, 6))\n",
    "top_artists.plot(kind='bar')\n",
    "plt.title('Top 10 Most Occurring Artists in Billboard\\'s Top 100')\n",
    "plt.xlabel('Artist')\n",
    "plt.ylabel('Number of Appearances')\n",
    "plt.xticks(rotation=45)\n",
    "plt.savefig('Top 10 Most Occurring Artists in Billboard\\'s Top 100.png')\n",
    "plt.show()\n"
   ]
  },
  {
   "cell_type": "code",
   "execution_count": 98,
   "metadata": {},
   "outputs": [
    {
     "data": {
      "image/png": "[encoded data removed]",
      "text/plain": [
       "<Figure size 864x432 with 1 Axes>"
      ]
     },
     "metadata": {
      "needs_background": "light"
     },
     "output_type": "display_data"
    }
   ],
   "source": [
    "# Filter the artists who have occurred more than 15 times\n",
    "top_artists = artist_counts[artist_counts > 15]\n",
    "\n",
    "# Plot a bar chart of the filtered artists\n",
    "plt.figure(figsize=(12, 6))\n",
    "top_artists.plot(kind='bar')\n",
    "plt.title('Artists with More than 15 Appearances in Billboard\\'s Top 100')\n",
    "plt.xlabel('Artist')\n",
    "plt.ylabel('Number of Appearances')\n",
    "plt.xticks(rotation=45)\n",
    "plt.savefig('Artists with More than 15 Appearances in Billboard\\'s Top 100.png')\n",
    "plt.show()\n"
   ]
  },
  {
   "cell_type": "code",
   "execution_count": 99,
   "metadata": {},
   "outputs": [
    {
     "data": {
      "image/png": "[encoded data removed]",
      "text/plain": [
       "<Figure size 720x432 with 1 Axes>"
      ]
     },
     "metadata": {
      "needs_background": "light"
     },
     "output_type": "display_data"
    }
   ],
   "source": [
    "\n",
    "# Convert the 'born' column to datetime\n",
    "finalDf['born'] = pd.to_datetime(finalDf['born'], errors='coerce')\n",
    "\n",
    "# Calculate the age at top ranking using the 'born' column as the reference\n",
    "age_at_top_ranking = finalDf['year'] - finalDf['born'].dt.year\n",
    "\n",
    "# Remove any NaN values from the age column\n",
    "age_at_top_ranking = age_at_top_ranking.dropna()\n",
    "\n",
    "# Plot histogram\n",
    "plt.figure(figsize=(10, 6))\n",
    "plt.hist(age_at_top_ranking, bins=20, color='blue', edgecolor='black')\n",
    "plt.title('Age at Top Ranking')\n",
    "plt.xlabel('Age')\n",
    "plt.ylabel('Frequency')\n",
    "plt.savefig('Age at Top Ranking.png')\n",
    "plt.show()\n"
   ]
  },
  {
   "cell_type": "code",
   "execution_count": 100,
   "metadata": {},
   "outputs": [
    {
     "data": {
      "image/png": "[encoded data removed]",
      "text/plain": [
       "<Figure size 720x432 with 1 Axes>"
      ]
     },
     "metadata": {
      "needs_background": "light"
     },
     "output_type": "display_data"
    }
   ],
   "source": [
    "import matplotlib.pyplot as plt\n",
    "import pandas as pd\n",
    "\n",
    "# Convert the 'ya' (years active) column to datetime\n",
    "finalDf['ya'] = pd.to_datetime(finalDf['ya'], errors='coerce')\n",
    "\n",
    "# Calculate the years since inception at top ranking using the 'ya' column as the reference\n",
    "years_since_inception = finalDf['year'] - finalDf['ya'].dt.year\n",
    "\n",
    "# Remove any NaN values from the years since inception column\n",
    "years_since_inception = years_since_inception.dropna()\n",
    "\n",
    "# Plot histogram\n",
    "plt.figure(figsize=(10, 6))\n",
    "plt.hist(years_since_inception, bins=20, color='blue', edgecolor='black')\n",
    "plt.title('Years Since Inception at Top Ranking')\n",
    "plt.xlabel('Years Since Inception')\n",
    "plt.ylabel('Frequency')\n",
    "plt.savefig('Years Since Inception at Top Ranking.png')\n",
    "plt.show()\n"
   ]
  },
  {
   "cell_type": "code",
   "execution_count": null,
   "metadata": {},
   "outputs": [],
   "source": []
  }
 ],
 "metadata": {
  "colab": {
   "collapsed_sections": [
    "Kd_0dzuslm7B",
    "QmtbYTjl8rR0",
    "r33k0Rv9lm9M"
   ],
   "name": "HW1_Solutions.ipynb",
   "provenance": []
  },
  "kernelspec": {
   "display_name": "Python 3 (ipykernel)",
   "language": "python",
   "name": "python3"
  },
  "language_info": {
   "codemirror_mode": {
    "name": "ipython",
    "version": 3
   },
   "file_extension": ".py",
   "mimetype": "text/x-python",
   "name": "python",
   "nbconvert_exporter": "python",
   "pygments_lexer": "ipython3",
   "version": "3.10.0"
  }
 },
 "nbformat": 4,
 "nbformat_minor": 1
}
